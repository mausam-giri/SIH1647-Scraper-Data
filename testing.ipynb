{
 "cells": [
  {
   "cell_type": "code",
   "execution_count": 1,
   "metadata": {},
   "outputs": [],
   "source": [
    "from urllib.parse import urljoin, urlencode\n",
    "from DCA_Data import sellers, commodities, centres, years"
   ]
  },
  {
   "cell_type": "code",
   "execution_count": 2,
   "metadata": {},
   "outputs": [],
   "source": [
    "base_url = \"https://dca.ceda.ashoka.edu.in/index.php/home/\"\n",
    "endpoint = \"getcsv\""
   ]
  },
  {
   "cell_type": "code",
   "execution_count": 22,
   "metadata": {},
   "outputs": [],
   "source": [
    "def update_params(commodity_name, centre_name, seller_type, year):\n",
    "    parse =  {\n",
    "        'c': f\"[%22{commodities[commodity_name]}%22]\",\n",
    "        's': centres[centre_name],\n",
    "        't': sellers[seller_type],\n",
    "        'y': years[year]\n",
    "    }\n",
    "    return f\"c={parse['c']}&s={parse['s']}&t={parse['t']}&y={parse['y']}\""
   ]
  },
  {
   "cell_type": "code",
   "execution_count": 23,
   "metadata": {},
   "outputs": [],
   "source": [
    "\n",
    "def get_url(params):\n",
    "    # query_string = urlencode(params, doseq=True)\n",
    "    final_url = f\"{urljoin(base_url, endpoint)}?{params}\"\n",
    "    return final_url"
   ]
  },
  {
   "cell_type": "code",
   "execution_count": 24,
   "metadata": {},
   "outputs": [
    {
     "name": "stdout",
     "output_type": "stream",
     "text": [
      "https://dca.ceda.ashoka.edu.in/index.php/home/getcsv?c=[%221%22]&s=4&t=1&y=2020\n"
     ]
    }
   ],
   "source": [
    "params = update_params(\"Atta (Wheat)\",\"Ahmedabad\",\"Retail\",\"2020\")\n",
    "print(get_url(params))"
   ]
  },
  {
   "cell_type": "code",
   "execution_count": 9,
   "metadata": {},
   "outputs": [
    {
     "data": {
      "text/plain": [
       "'Retail,Atta (Wheat),Adilabad,2009,c=[%221%22]&s=1&t=1&y=2009'"
      ]
     },
     "execution_count": 9,
     "metadata": {},
     "output_type": "execute_result"
    }
   ],
   "source": [
    "filename = \"./Retail/Atta (Wheat)/Adilabad/2009\"\n",
    "data = [x for x in filename.split(\"/\") if x and x != \".\"]\n",
    "url = \"https://dca.ceda.ashoka.edu.in/index.php/home/getcsv?c=[%221%22]&s=1&t=1&y=2009\"\n",
    "raw = url.split(\"?\").pop()\n",
    "\n",
    "data.append(raw)\n",
    "final = \",\".join(data)\n",
    "final"
   ]
  },
  {
   "cell_type": "code",
   "execution_count": null,
   "metadata": {},
   "outputs": [],
   "source": []
  }
 ],
 "metadata": {
  "kernelspec": {
   "display_name": "Python 3",
   "language": "python",
   "name": "python3"
  },
  "language_info": {
   "codemirror_mode": {
    "name": "ipython",
    "version": 3
   },
   "file_extension": ".py",
   "mimetype": "text/x-python",
   "name": "python",
   "nbconvert_exporter": "python",
   "pygments_lexer": "ipython3",
   "version": "3.12.3"
  }
 },
 "nbformat": 4,
 "nbformat_minor": 2
}
